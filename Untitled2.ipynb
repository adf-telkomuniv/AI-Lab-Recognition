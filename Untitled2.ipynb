{
 "cells": [
  {
   "cell_type": "code",
   "execution_count": 1,
   "metadata": {},
   "outputs": [
    {
     "name": "stderr",
     "output_type": "stream",
     "text": [
      "Using TensorFlow backend.\n"
     ]
    }
   ],
   "source": [
    "import math\n",
    "import numpy as np\n",
    "import h5py\n",
    "import matplotlib.pyplot as plt\n",
    "import scipy\n",
    "from PIL import Image\n",
    "from scipy import ndimage\n",
    "import tensorflow as tf\n",
    "from tensorflow.python.framework import ops\n",
    "from cnn_utils import *\n",
    "from keras.utils import np_utils\n",
    "from keras.callbacks import ModelCheckpoint\n",
    "\n",
    "%matplotlib inline"
   ]
  },
  {
   "cell_type": "code",
   "execution_count": 2,
   "metadata": {},
   "outputs": [],
   "source": [
    "X_train_orig, Y_train_orig, X_test_orig, Y_test_orig, classes = load_dataset()"
   ]
  },
  {
   "cell_type": "code",
   "execution_count": 3,
   "metadata": {},
   "outputs": [
    {
     "name": "stdout",
     "output_type": "stream",
     "text": [
      "y = 5\n"
     ]
    },
    {
     "data": {
      "image/png": "[encoded data removed]",
      "text/plain": [
       "<Figure size 432x288 with 1 Axes>"
      ]
     },
     "metadata": {},
     "output_type": "display_data"
    }
   ],
   "source": [
    "index = 12\n",
    "plt.imshow(X_train_orig[index])\n",
    "print (\"y = \" + str(np.squeeze(Y_train_orig[:, index])))"
   ]
  },
  {
   "cell_type": "code",
   "execution_count": 4,
   "metadata": {},
   "outputs": [
    {
     "data": {
      "text/plain": [
       "<matplotlib.image.AxesImage at 0x1b6ce03c630>"
      ]
     },
     "execution_count": 4,
     "metadata": {},
     "output_type": "execute_result"
    },
    {
     "data": {
      "image/png": "[encoded data removed]",
      "text/plain": [
       "<Figure size 432x288 with 1 Axes>"
      ]
     },
     "metadata": {},
     "output_type": "display_data"
    }
   ],
   "source": [
    "a = np.ones((64,64,3))\n",
    "plt.imshow(a)"
   ]
  },
  {
   "cell_type": "code",
   "execution_count": 5,
   "metadata": {},
   "outputs": [],
   "source": [
    "# import keras\n",
    "# print(keras.__version__)\n",
    "# from keras_applications.mobilenet_v2 import MobileNetV2\n",
    "\n",
    "# model = MobileNetV2(weights='imagenet', include_top=False)\n"
   ]
  },
  {
   "cell_type": "code",
   "execution_count": 6,
   "metadata": {},
   "outputs": [
    {
     "name": "stderr",
     "output_type": "stream",
     "text": [
      "C:\\Users\\AndityaArifianto\\Anaconda3\\envs\\tensorflow-gpu\\lib\\site-packages\\keras_applications\\mobilenet.py:206: UserWarning: MobileNet shape is undefined. Weights for input shape (224, 224) will be loaded.\n",
      "  warnings.warn('MobileNet shape is undefined.'\n"
     ]
    }
   ],
   "source": [
    "from keras.applications.mobilenet import MobileNet\n",
    "\n",
    "model = MobileNet(weights='imagenet', include_top=False)\n",
    "# model = MobileNet(weights=None, include_top=False, input_shape=(64,64,3))"
   ]
  },
  {
   "cell_type": "code",
   "execution_count": 7,
   "metadata": {},
   "outputs": [],
   "source": [
    "# from keras.applications.inception_v3 import InceptionV3\n",
    "\n",
    "# model = InceptionV3(weights='imagenet', include_top=False)\n",
    "# model = InceptionV3(weights=None, include_top=False, input_shape=(64,64,3))"
   ]
  },
  {
   "cell_type": "code",
   "execution_count": 8,
   "metadata": {},
   "outputs": [],
   "source": [
    "# from keras.applications.xception import Xception\n",
    "\n",
    "# model = Xception(weights='imagenet', include_top=False, input_shape=(64,64,3))\n",
    "# model = Xception(weights=None, include_top=False, input_shape=(64,64,3))"
   ]
  },
  {
   "cell_type": "code",
   "execution_count": 9,
   "metadata": {},
   "outputs": [],
   "source": [
    "# for layer in model.layers:\n",
    "#     layer.trainable = False"
   ]
  },
  {
   "cell_type": "code",
   "execution_count": 10,
   "metadata": {},
   "outputs": [
    {
     "name": "stdout",
     "output_type": "stream",
     "text": [
      "[[5 0 2 ... 2 4 5]]\n"
     ]
    }
   ],
   "source": [
    "print(Y_train_orig)"
   ]
  },
  {
   "cell_type": "code",
   "execution_count": 11,
   "metadata": {},
   "outputs": [
    {
     "name": "stdout",
     "output_type": "stream",
     "text": [
      "number of training examples = 1080\n",
      "number of test examples = 120\n",
      "X_train shape: (1080, 64, 64, 3)\n",
      "Y_train shape: (1080, 6)\n",
      "X_test shape: (120, 64, 64, 3)\n",
      "Y_test shape: (120, 6)\n"
     ]
    }
   ],
   "source": [
    "X_train = X_train_orig/255.\n",
    "X_test = X_test_orig/255.\n",
    "Y_train = np_utils.to_categorical(Y_train_orig[0])\n",
    "Y_test = np_utils.to_categorical(Y_test_orig[0])\n",
    "print (\"number of training examples = \" + str(X_train.shape[0]))\n",
    "print (\"number of test examples = \" + str(X_test.shape[0]))\n",
    "print (\"X_train shape: \" + str(X_train.shape))\n",
    "print (\"Y_train shape: \" + str(Y_train.shape))\n",
    "print (\"X_test shape: \" + str(X_test.shape))\n",
    "print (\"Y_test shape: \" + str(Y_test.shape))"
   ]
  },
  {
   "cell_type": "code",
   "execution_count": 12,
   "metadata": {},
   "outputs": [],
   "source": [
    "# # add data\n",
    "# Y_train2 = np.hstack((Y_train_orig[0], np.ones((2,))*6))\n",
    "# Y_test2 = np.hstack((Y_test_orig[0], np.ones((2,))*6))\n",
    "# print(Y_train2.shape)"
   ]
  },
  {
   "cell_type": "code",
   "execution_count": 13,
   "metadata": {},
   "outputs": [],
   "source": [
    "# X_train = X_train_orig/255.\n",
    "# X_test = X_test_orig/255.\n",
    "# Y_train = np_utils.to_categorical(Y_train2)\n",
    "# Y_test = np_utils.to_categorical(Y_test2)\n",
    "# print (\"number of training examples = \" + str(X_train.shape[0]))\n",
    "# print (\"number of test examples = \" + str(X_test.shape[0]))\n",
    "# print (\"X_train shape: \" + str(X_train.shape))\n",
    "# print (\"Y_train shape: \" + str(Y_train.shape))\n",
    "# print (\"X_test shape: \" + str(X_test.shape))\n",
    "# print (\"Y_test shape: \" + str(Y_test.shape))"
   ]
  },
  {
   "cell_type": "code",
   "execution_count": 14,
   "metadata": {},
   "outputs": [],
   "source": [
    "# X_train = np.insert(X_train,1080,a,axis=0)\n",
    "# X_test = np.insert(X_test,120,a,axis=0)\n",
    "\n",
    "# b = np.zeros((64,64,3))\n",
    "# X_train = np.insert(X_train,1080,b,axis=0)\n",
    "# X_test = np.insert(X_test,120,b,axis=0)\n"
   ]
  },
  {
   "cell_type": "code",
   "execution_count": 15,
   "metadata": {},
   "outputs": [],
   "source": [
    "# Y_train = np.hstack((Y_train,np.zeros((Y_train.shape[0],1))))\n",
    "# Y_test = np.hstack((Y_test,np.zeros((Y_test.shape[0],1))))\n"
   ]
  },
  {
   "cell_type": "code",
   "execution_count": 16,
   "metadata": {},
   "outputs": [
    {
     "name": "stdout",
     "output_type": "stream",
     "text": [
      "number of training examples = 1080\n",
      "number of test examples = 120\n",
      "X_train shape: (1080, 64, 64, 3)\n",
      "Y_train shape: (1080, 6)\n",
      "X_test shape: (120, 64, 64, 3)\n",
      "Y_test shape: (120, 6)\n"
     ]
    }
   ],
   "source": [
    "print (\"number of training examples = \" + str(X_train.shape[0]))\n",
    "print (\"number of test examples = \" + str(X_test.shape[0]))\n",
    "print (\"X_train shape: \" + str(X_train.shape))\n",
    "print (\"Y_train shape: \" + str(Y_train.shape))\n",
    "print (\"X_test shape: \" + str(X_test.shape))\n",
    "print (\"Y_test shape: \" + str(Y_test.shape))"
   ]
  },
  {
   "cell_type": "code",
   "execution_count": 17,
   "metadata": {},
   "outputs": [],
   "source": [
    "import keras\n",
    "from keras.models import Sequential\n",
    "from keras.layers import Flatten\n",
    "from keras.layers import Dense\n",
    "from keras.layers import Activation\n",
    "from keras import Model\n",
    "from keras.layers import Input\n",
    "\n",
    "from keras.utils import np_utils\n",
    "\n",
    "from keras.layers import GlobalAveragePooling2D\n",
    "\n",
    "# new_class = 7\n",
    "new_class = 6\n",
    "\n",
    "x = model.output\n",
    "x = GlobalAveragePooling2D()(x)\n",
    "x = Dense(1024, activation='relu')(x)\n",
    "# x = Dense(512, activation='relu')(x)\n",
    "predictions_empty = Dense(new_class, activation='softmax')(x)\n",
    "\n",
    "new_model = Model(inputs=model.input, outputs=predictions_empty)\n",
    "\n",
    "\n",
    "opt = keras.optimizers.rmsprop(lr=0.0001, decay=1e-6)\n",
    "# opt = keras.optimizers.adam()\n",
    "\n",
    "\n",
    "new_model.compile(loss='categorical_crossentropy',\n",
    "                        optimizer=opt, metrics=['accuracy'])"
   ]
  },
  {
   "cell_type": "code",
   "execution_count": 18,
   "metadata": {},
   "outputs": [],
   "source": [
    "# from keras.models import load_model\n",
    "# new_model = load_model('best.hdf5')"
   ]
  },
  {
   "cell_type": "code",
   "execution_count": 19,
   "metadata": {
    "scrolled": true
   },
   "outputs": [
    {
     "name": "stdout",
     "output_type": "stream",
     "text": [
      "Epoch 1/50\n",
      "34/33 [==============================] - 15s 428ms/step - loss: 1.0750 - acc: 0.5947 - val_loss: 0.4141 - val_acc: 0.8500\n",
      "Epoch 2/50\n",
      "34/33 [==============================] - 5s 135ms/step - loss: 0.4506 - acc: 0.8260 - val_loss: 0.3994 - val_acc: 0.8667\n",
      "Epoch 3/50\n",
      "34/33 [==============================] - 5s 135ms/step - loss: 0.3028 - acc: 0.9032 - val_loss: 0.1893 - val_acc: 0.9333\n",
      "Epoch 4/50\n",
      "34/33 [==============================] - 5s 135ms/step - loss: 0.2468 - acc: 0.9213 - val_loss: 0.1952 - val_acc: 0.9583\n",
      "Epoch 5/50\n",
      "34/33 [==============================] - 5s 135ms/step - loss: 0.1807 - acc: 0.9354 - val_loss: 0.1033 - val_acc: 0.9833\n",
      "Epoch 6/50\n",
      "34/33 [==============================] - 5s 135ms/step - loss: 0.1311 - acc: 0.9516 - val_loss: 0.1490 - val_acc: 0.9667\n",
      "Epoch 7/50\n",
      "34/33 [==============================] - 5s 135ms/step - loss: 0.1434 - acc: 0.9445 - val_loss: 0.0990 - val_acc: 0.9750\n",
      "Epoch 8/50\n",
      "34/33 [==============================] - 5s 135ms/step - loss: 0.1305 - acc: 0.9583 - val_loss: 0.0943 - val_acc: 0.9750\n",
      "Epoch 9/50\n",
      "34/33 [==============================] - 5s 135ms/step - loss: 0.1353 - acc: 0.9550 - val_loss: 0.0875 - val_acc: 0.9833\n",
      "Epoch 10/50\n",
      "34/33 [==============================] - 5s 135ms/step - loss: 0.0786 - acc: 0.9636 - val_loss: 0.0676 - val_acc: 0.9833\n",
      "Epoch 11/50\n",
      "34/33 [==============================] - 5s 135ms/step - loss: 0.1172 - acc: 0.9599 - val_loss: 0.0262 - val_acc: 0.9833\n",
      "Epoch 12/50\n",
      "34/33 [==============================] - 5s 135ms/step - loss: 0.0699 - acc: 0.9730 - val_loss: 0.0567 - val_acc: 0.9917\n",
      "Epoch 13/50\n",
      "34/33 [==============================] - 5s 135ms/step - loss: 0.0628 - acc: 0.9789 - val_loss: 0.0850 - val_acc: 0.9750\n",
      "Epoch 14/50\n",
      "34/33 [==============================] - 5s 135ms/step - loss: 0.0785 - acc: 0.9694 - val_loss: 0.0740 - val_acc: 0.9750\n",
      "Epoch 15/50\n",
      "34/33 [==============================] - 5s 134ms/step - loss: 0.0544 - acc: 0.9832 - val_loss: 0.0917 - val_acc: 0.9750\n",
      "Epoch 16/50\n",
      "34/33 [==============================] - 5s 135ms/step - loss: 0.0517 - acc: 0.9822 - val_loss: 0.1252 - val_acc: 0.9750\n",
      "Epoch 17/50\n",
      "34/33 [==============================] - 5s 135ms/step - loss: 0.0446 - acc: 0.9835 - val_loss: 0.0827 - val_acc: 0.9750\n",
      "Epoch 18/50\n",
      "34/33 [==============================] - 5s 135ms/step - loss: 0.0691 - acc: 0.9752 - val_loss: 0.0589 - val_acc: 0.9833\n",
      "Epoch 19/50\n",
      "34/33 [==============================] - 5s 135ms/step - loss: 0.0817 - acc: 0.9737 - val_loss: 0.0339 - val_acc: 0.9917\n",
      "Epoch 20/50\n",
      "34/33 [==============================] - 5s 135ms/step - loss: 0.0584 - acc: 0.9868 - val_loss: 0.0290 - val_acc: 0.9833\n",
      "Epoch 21/50\n",
      "34/33 [==============================] - 5s 135ms/step - loss: 0.0545 - acc: 0.9825 - val_loss: 0.0367 - val_acc: 0.9833\n",
      "Epoch 22/50\n",
      "34/33 [==============================] - 5s 135ms/step - loss: 0.0298 - acc: 0.9908 - val_loss: 0.0674 - val_acc: 0.9833\n",
      "Epoch 23/50\n",
      "34/33 [==============================] - 5s 135ms/step - loss: 0.0507 - acc: 0.9862 - val_loss: 0.0427 - val_acc: 0.9833\n",
      "Epoch 24/50\n",
      "34/33 [==============================] - 5s 135ms/step - loss: 0.0359 - acc: 0.9868 - val_loss: 0.0508 - val_acc: 0.9833\n",
      "Epoch 25/50\n",
      "34/33 [==============================] - 5s 135ms/step - loss: 0.0797 - acc: 0.9789 - val_loss: 0.0497 - val_acc: 0.9917\n",
      "Epoch 26/50\n",
      "34/33 [==============================] - 5s 135ms/step - loss: 0.0628 - acc: 0.9835 - val_loss: 0.0273 - val_acc: 0.9750\n",
      "Epoch 27/50\n",
      "34/33 [==============================] - 5s 135ms/step - loss: 0.0391 - acc: 0.9880 - val_loss: 0.0742 - val_acc: 0.9833\n",
      "Epoch 28/50\n",
      "34/33 [==============================] - 5s 135ms/step - loss: 0.0441 - acc: 0.9844 - val_loss: 0.0358 - val_acc: 0.9750\n",
      "Epoch 29/50\n",
      "34/33 [==============================] - 5s 135ms/step - loss: 0.0413 - acc: 0.9871 - val_loss: 0.0811 - val_acc: 0.9667\n",
      "Epoch 30/50\n",
      "34/33 [==============================] - 5s 135ms/step - loss: 0.0371 - acc: 0.9871 - val_loss: 0.0830 - val_acc: 0.9833\n",
      "Epoch 31/50\n",
      "34/33 [==============================] - 5s 135ms/step - loss: 0.0536 - acc: 0.9825 - val_loss: 0.0614 - val_acc: 0.9833\n",
      "Epoch 32/50\n",
      "34/33 [==============================] - 5s 135ms/step - loss: 0.0562 - acc: 0.9832 - val_loss: 0.0504 - val_acc: 0.9917\n",
      "Epoch 33/50\n",
      "34/33 [==============================] - 5s 135ms/step - loss: 0.0266 - acc: 0.9896 - val_loss: 0.0611 - val_acc: 0.9833\n",
      "Epoch 34/50\n",
      "34/33 [==============================] - 5s 135ms/step - loss: 0.0280 - acc: 0.9890 - val_loss: 0.0489 - val_acc: 0.9917\n",
      "Epoch 35/50\n",
      "34/33 [==============================] - 5s 135ms/step - loss: 0.0778 - acc: 0.9841 - val_loss: 0.0417 - val_acc: 0.9833\n",
      "Epoch 36/50\n",
      "34/33 [==============================] - 5s 135ms/step - loss: 0.0247 - acc: 0.9936 - val_loss: 0.0482 - val_acc: 0.9917\n",
      "Epoch 37/50\n",
      "34/33 [==============================] - 5s 135ms/step - loss: 0.0537 - acc: 0.9859 - val_loss: 0.0188 - val_acc: 0.9917\n",
      "Epoch 38/50\n",
      "34/33 [==============================] - 5s 135ms/step - loss: 0.0606 - acc: 0.9822 - val_loss: 0.0177 - val_acc: 0.9917\n",
      "Epoch 39/50\n",
      "34/33 [==============================] - 5s 135ms/step - loss: 0.0318 - acc: 0.9911 - val_loss: 0.0132 - val_acc: 0.9917\n",
      "Epoch 40/50\n",
      "34/33 [==============================] - 5s 135ms/step - loss: 0.0229 - acc: 0.9914 - val_loss: 0.0134 - val_acc: 0.9917\n",
      "Epoch 41/50\n",
      "34/33 [==============================] - 5s 135ms/step - loss: 0.0222 - acc: 0.9945 - val_loss: 0.0080 - val_acc: 1.0000\n",
      "Epoch 42/50\n",
      "34/33 [==============================] - 5s 135ms/step - loss: 0.0464 - acc: 0.9890 - val_loss: 0.0052 - val_acc: 1.0000\n",
      "Epoch 43/50\n",
      "34/33 [==============================] - 5s 135ms/step - loss: 0.0200 - acc: 0.9890 - val_loss: 0.0125 - val_acc: 0.9917\n",
      "Epoch 44/50\n",
      "34/33 [==============================] - 5s 135ms/step - loss: 0.0158 - acc: 0.9936 - val_loss: 0.0039 - val_acc: 1.0000\n",
      "Epoch 45/50\n",
      "34/33 [==============================] - 5s 135ms/step - loss: 0.0290 - acc: 0.9908 - val_loss: 6.1197e-04 - val_acc: 1.0000\n",
      "Epoch 46/50\n",
      "34/33 [==============================] - 5s 135ms/step - loss: 0.0262 - acc: 0.9926 - val_loss: 0.0193 - val_acc: 0.9917\n",
      "Epoch 47/50\n",
      "34/33 [==============================] - 5s 135ms/step - loss: 0.0412 - acc: 0.9908 - val_loss: 0.0024 - val_acc: 1.0000\n",
      "Epoch 48/50\n",
      "34/33 [==============================] - 5s 135ms/step - loss: 0.0370 - acc: 0.9899 - val_loss: 0.0136 - val_acc: 0.9917\n",
      "Epoch 49/50\n",
      "34/33 [==============================] - 5s 135ms/step - loss: 0.0355 - acc: 0.9914 - val_loss: 0.0010 - val_acc: 1.0000\n",
      "Epoch 50/50\n",
      "34/33 [==============================] - 5s 135ms/step - loss: 0.0147 - acc: 0.9954 - val_loss: 0.0153 - val_acc: 0.9917\n"
     ]
    }
   ],
   "source": [
    "from keras.preprocessing.image import ImageDataGenerator\n",
    "datagen = ImageDataGenerator(\n",
    "#     featurewise_center=True,\n",
    "    #featurewise_std_normalization=True,\n",
    "    rotation_range=20,\n",
    "#     rescale=1./255,\n",
    "    shear_range=0.15,\n",
    "    zoom_range=0.2,\n",
    "    width_shift_range=0.1,\n",
    "    height_shift_range=0.1,\n",
    "    horizontal_flip=True,\n",
    "    #validation_split=0.2\n",
    ")\n",
    "\n",
    "# compute quantities required for featurewise normalization\n",
    "# (std, mean, and principal components if ZCA whitening is applied)\n",
    "datagen.fit(X_train)\n",
    "\n",
    "\n",
    "batch_size = 32\n",
    "epochs = 50\n",
    "\n",
    "# fits the model on batches with real-time data augmentation:\n",
    "history = new_model.fit_generator(datagen.flow(X_train, Y_train, batch_size=batch_size),\n",
    "                    steps_per_epoch=len(X_train) / 32, \n",
    "                    validation_data=(X_test, Y_test),\n",
    "                    #validation_data=(datagen.flow(X_train,Y_train, batch_size=batch_size, subset='validation')),\n",
    "                    epochs=epochs,\n",
    "                    callbacks = [ModelCheckpoint('best.hdf5',monitor='val_acc', save_best_only=True, mode='max')])"
   ]
  },
  {
   "cell_type": "code",
   "execution_count": 20,
   "metadata": {},
   "outputs": [],
   "source": [
    "# batch_size = 64\n",
    "# epochs = 30\n",
    "\n",
    "# history = new_model.fit(X_train, Y_train,\n",
    "#                     batch_size=batch_size,\n",
    "#                     validation_data=(X_test, Y_test),\n",
    "#                     epochs=epochs,\n",
    "#                     callbacks = [ModelCheckpoint('best.hdf5',monitor='val_acc', save_best_only=True, mode='max')],\n",
    "#                     shuffle=True)"
   ]
  },
  {
   "cell_type": "code",
   "execution_count": 21,
   "metadata": {},
   "outputs": [
    {
     "data": {
      "image/png": "[encoded data removed]",
      "text/plain": [
       "<Figure size 432x288 with 1 Axes>"
      ]
     },
     "metadata": {},
     "output_type": "display_data"
    }
   ],
   "source": [
    "plt.plot(history.history['acc'], label='train')\n",
    "plt.xlabel('Epoch')\n",
    "plt.ylabel('Accuracy')\n",
    "plt.legend()\n",
    "plt.show()"
   ]
  },
  {
   "cell_type": "code",
   "execution_count": 22,
   "metadata": {},
   "outputs": [
    {
     "name": "stdout",
     "output_type": "stream",
     "text": [
      "1080/1080 [==============================] - 1s 1ms/step\n",
      "Test loss: 0.002201153351258098\n",
      "Test accuracy: 0.9990740740740741\n"
     ]
    }
   ],
   "source": [
    "scores = new_model.evaluate(X_train, Y_train, verbose=1)\n",
    "print('Test loss:', scores[0])\n",
    "print('Test accuracy:', scores[1])"
   ]
  },
  {
   "cell_type": "code",
   "execution_count": 23,
   "metadata": {},
   "outputs": [
    {
     "name": "stdout",
     "output_type": "stream",
     "text": [
      "120/120 [==============================] - 0s 1ms/step\n",
      "Test loss: 0.015280548406735761\n",
      "Test accuracy: 0.9916666666666667\n"
     ]
    }
   ],
   "source": [
    "scores = new_model.evaluate(X_test, Y_test, verbose=1)\n",
    "print('Test loss:', scores[0])\n",
    "print('Test accuracy:', scores[1])"
   ]
  },
  {
   "cell_type": "code",
   "execution_count": 24,
   "metadata": {},
   "outputs": [],
   "source": [
    "# new_model.save('hand_recog.h5')"
   ]
  },
  {
   "cell_type": "code",
   "execution_count": 25,
   "metadata": {},
   "outputs": [
    {
     "name": "stdout",
     "output_type": "stream",
     "text": [
      "120/120 [==============================] - 0s 1ms/step\n",
      "Test loss: 0.00803200590889901\n",
      "Test accuracy: 1.0\n"
     ]
    }
   ],
   "source": [
    "new_model.load_weights('best.hdf5')\n",
    "scores = new_model.evaluate(X_test, Y_test, verbose=1)\n",
    "print('Test loss:', scores[0])\n",
    "print('Test accuracy:', scores[1])"
   ]
  },
  {
   "cell_type": "code",
   "execution_count": null,
   "metadata": {},
   "outputs": [],
   "source": []
  },
  {
   "cell_type": "code",
   "execution_count": null,
   "metadata": {},
   "outputs": [],
   "source": []
  },
  {
   "cell_type": "code",
   "execution_count": null,
   "metadata": {},
   "outputs": [],
   "source": []
  }
 ],
 "metadata": {
  "kernelspec": {
   "display_name": "Python 3",
   "language": "python",
   "name": "python3"
  },
  "language_info": {
   "codemirror_mode": {
    "name": "ipython",
    "version": 3
   },
   "file_extension": ".py",
   "mimetype": "text/x-python",
   "name": "python",
   "nbconvert_exporter": "python",
   "pygments_lexer": "ipython3",
   "version": "3.6.5"
  }
 },
 "nbformat": 4,
 "nbformat_minor": 2
}
